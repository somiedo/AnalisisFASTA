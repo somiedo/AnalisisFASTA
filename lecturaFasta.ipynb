{
 "cells": [
  {
   "attachments": {},
   "cell_type": "markdown",
   "metadata": {},
   "source": [
    "# ANÁLISIS ARCHIVO FASTA"
   ]
  },
  {
   "attachments": {},
   "cell_type": "markdown",
   "metadata": {},
   "source": [
    "En este código desarrollamos dos formas de realizar el análisis de un archivo FASTA:\n",
    "\n",
    "* Mediante la librería Bio (Biopython)\n",
    "* Sin utilización de librerías bioinformáticas"
   ]
  },
  {
   "attachments": {},
   "cell_type": "markdown",
   "metadata": {},
   "source": [
    "## Mediante la librería Bio (Biopython)"
   ]
  },
  {
   "attachments": {},
   "cell_type": "markdown",
   "metadata": {},
   "source": [
    "### Entorno de trabajo\n",
    "Instalamos la librería Bio. Si la tuviésemos instalada podemos actualizarla mediante el comando:\n",
    "\n",
    "`pip install biopython --upgrade`"
   ]
  },
  {
   "cell_type": "code",
   "execution_count": 3,
   "metadata": {},
   "outputs": [
    {
     "name": "stdout",
     "output_type": "stream",
     "text": [
      "Note: you may need to restart the kernel to use updated packages.Defaulting to user installation because normal site-packages is not writeable\n",
      "Collecting biopython\n",
      "  Downloading biopython-1.81-cp311-cp311-win_amd64.whl (2.7 MB)\n",
      "     ---------------------------------------- 0.0/2.7 MB ? eta -:--:--\n",
      "      --------------------------------------- 0.1/2.7 MB 1.1 MB/s eta 0:00:03\n",
      "     -- ------------------------------------- 0.2/2.7 MB 1.7 MB/s eta 0:00:02\n",
      "     ---- ----------------------------------- 0.3/2.7 MB 2.1 MB/s eta 0:00:02\n",
      "     ----- ---------------------------------- 0.4/2.7 MB 1.9 MB/s eta 0:00:02\n",
      "     ------- -------------------------------- 0.5/2.7 MB 2.1 MB/s eta 0:00:02\n",
      "     --------- ------------------------------ 0.6/2.7 MB 2.2 MB/s eta 0:00:01\n",
      "     ---------- ----------------------------- 0.7/2.7 MB 2.2 MB/s eta 0:00:01\n",
      "     ------------- -------------------------- 0.9/2.7 MB 2.5 MB/s eta 0:00:01\n",
      "     ---------------- ----------------------- 1.1/2.7 MB 2.7 MB/s eta 0:00:01\n",
      "     ------------------ --------------------- 1.2/2.7 MB 2.7 MB/s eta 0:00:01\n",
      "     ------------------- -------------------- 1.3/2.7 MB 2.6 MB/s eta 0:00:01\n",
      "     -------------------- ------------------- 1.4/2.7 MB 2.5 MB/s eta 0:00:01\n",
      "     --------------------- ------------------ 1.5/2.7 MB 2.4 MB/s eta 0:00:01\n",
      "     ---------------------- ----------------- 1.5/2.7 MB 2.4 MB/s eta 0:00:01\n",
      "     ----------------------- ---------------- 1.6/2.7 MB 2.3 MB/s eta 0:00:01\n",
      "     -------------------------- ------------- 1.8/2.7 MB 2.4 MB/s eta 0:00:01\n",
      "     ----------------------------- ---------- 2.0/2.7 MB 2.6 MB/s eta 0:00:01\n",
      "     -------------------------------- ------- 2.2/2.7 MB 2.6 MB/s eta 0:00:01\n",
      "     ---------------------------------- ----- 2.3/2.7 MB 2.6 MB/s eta 0:00:01\n",
      "     ------------------------------------ --- 2.5/2.7 MB 2.7 MB/s eta 0:00:01\n",
      "     ------------------------------------- -- 2.6/2.7 MB 2.6 MB/s eta 0:00:01\n",
      "     ---------------------------------------  2.7/2.7 MB 2.7 MB/s eta 0:00:01\n",
      "     ---------------------------------------- 2.7/2.7 MB 2.6 MB/s eta 0:00:00\n",
      "Requirement already satisfied: numpy in c:\\users\\pablo\\appdata\\roaming\\python\\python311\\site-packages (from biopython) (1.23.5)\n",
      "Installing collected packages: biopython\n",
      "Successfully installed biopython-1.81\n",
      "\n"
     ]
    },
    {
     "name": "stderr",
     "output_type": "stream",
     "text": [
      "\n",
      "[notice] A new release of pip is available: 23.0.1 -> 23.1.2\n",
      "[notice] To update, run: python.exe -m pip install --upgrade pip\n"
     ]
    }
   ],
   "source": [
    "# Instalamos la librería Bio\n",
    "pip install biopython"
   ]
  },
  {
   "cell_type": "code",
   "execution_count": 1,
   "metadata": {},
   "outputs": [],
   "source": [
    "# Importamos la librería Bio\n",
    "import Bio"
   ]
  },
  {
   "attachments": {},
   "cell_type": "markdown",
   "metadata": {},
   "source": [
    "Un fichero FASTA es un formato comúnmente utilizado para almacenar secuencias de ácidos nucleicos (ADN o ARN) o secuencias de aminoácidos (proteínas). El nombre \"FASTA\" proviene de la primera línea del fichero, que comienza con el símbolo \">\" seguido de un identificador único para la secuencia.\n",
    "\n",
    "Aquí tienes un ejemplo de cómo se vería un fichero FASTA:\n",
    "\n",
    "Un fichero FASTA es un simple fichero de texto plano con el siguiente formato:\n",
    "\n",
    ">`>Secuencia_1`<br>\n",
    ">`ATGCTGATCGTAGCTAGCTAGCTAGCTAGCTAGCTAGCTAGCTAGCTAGCTAGCTAGCTAG`\n",
    ">`CTAGCTAGCTAGCTAGCTAGCTAGCTAGCTAGCTAGCTAGCTAGCTAGCTAGCTAGCTAGC`<br>\n",
    ">`>Secuencia_2`<br>\n",
    ">`ATCGATCGATCGATCGATCGATCGATCGATCGATCGATCGATCGATCGATCGATCGATCGA`\n",
    ">`TCGATCGATCGATCGATCGATCGATCGATCGATCGATCGATCGATCGATCGATCGATCGAT`\n",
    ">`CGATCGATCGATCGATCGATCGATCGATCGATCGATCGATCGATCGATCGATCGATCGATC`\n",
    "\n",
    "La primera línea con el símbolo '>' nos indica un comentario en el que habitualmente se incluye algún tipo de identificador. Es posible que esta línea no aparezca puesto que no es obligatoria. A continuación, tenemos la secuencia hasta el próximo símbolo '>' o hasta que el fichero termine. Habitualmente, las líneas tienen un tamaño inferior a los 80 caracteres (por razones históricas de legibilidad en las antiguas terminales de 80 caracteres de tamaño).\n",
    "En el caso de una secuencia genómica, solo tendríamos alguna de las cuatro posibles bases (G, A, T o C) en caso de ADN o bien las mismas bases a excepción de U en vez de T para el ARN. Podemos encontrar saltos de secuencia (símbolo '-') u otros casos. En el siguiente link encontramos una lista más exhaustiva de estos: https://en.wikipedia.org/wiki/FASTA_format."
   ]
  },
  {
   "attachments": {},
   "cell_type": "markdown",
   "metadata": {},
   "source": [
    "### Lectura del fichero Fasta\n",
    "\n",
    "En el directorio `data` tenemos un fichero FASTA de ejemplo, `multipleSeqs.fa`. Vamos a leerlo con BioPython:"
   ]
  },
  {
   "cell_type": "code",
   "execution_count": 2,
   "metadata": {},
   "outputs": [],
   "source": [
    "# Path del fichero\n",
    "fastaFile = 'data/multipleSeqs.fa'"
   ]
  },
  {
   "cell_type": "code",
   "execution_count": 3,
   "metadata": {},
   "outputs": [
    {
     "name": "stdout",
     "output_type": "stream",
     "text": [
      "ID: \" NT_033779.5 \" - longitud:  134\n",
      "ID: \" NC_004353.4 \" - longitud:  125\n",
      "ID: \" NC_024512.1 \" - longitud:  81\n",
      "ID: \" NT_037436.4 \" - longitud:  210\n",
      "ID: \" NT_033777.3 \" - longitud:  70\n"
     ]
    }
   ],
   "source": [
    "# Hacemos uso del módulo SeqIO\n",
    "from Bio import SeqIO\n",
    "\n",
    "# Obtenemos todas las secuencias que encuentre en el fichero, indicando el \n",
    "# tipo de formato 'fasta':\n",
    "records = SeqIO.parse(fastaFile, \"fasta\")\n",
    "for seq_record in records:\n",
    "    # Para cada secuencia, imprimiremos su id y su longitud\n",
    "    print('ID: \"', seq_record.id, '\" - longitud: ', len(seq_record))"
   ]
  },
  {
   "attachments": {},
   "cell_type": "markdown",
   "metadata": {},
   "source": [
    "Cada uno de los `seq_record` que leemos es un objeto `SeqRecord` que contiene un objeto de tipo `Seq` (una secuencia en BioPython) junto a otros metadatos, como su id, por ejemplo.\n",
    " \n",
    "Para contar el número de nucleótidos de cada tipo:"
   ]
  },
  {
   "cell_type": "code",
   "execution_count": 4,
   "metadata": {},
   "outputs": [
    {
     "name": "stdout",
     "output_type": "stream",
     "text": [
      "Secuencia 0:\n",
      "Número de A's: 39\n",
      "Número de C's: 26\n",
      "Número de G's: 29\n",
      "Número de T's: 40\n",
      "\n",
      "Secuencia 1:\n",
      "Número de A's: 46\n",
      "Número de C's: 0\n",
      "Número de G's: 0\n",
      "Número de T's: 79\n",
      "\n",
      "Secuencia 2:\n",
      "Número de A's: 32\n",
      "Número de C's: 17\n",
      "Número de G's: 10\n",
      "Número de T's: 22\n",
      "\n",
      "Secuencia 3:\n",
      "Número de A's: 68\n",
      "Número de C's: 34\n",
      "Número de G's: 49\n",
      "Número de T's: 59\n",
      "\n",
      "Secuencia 4:\n",
      "Número de A's: 21\n",
      "Número de C's: 18\n",
      "Número de G's: 22\n",
      "Número de T's: 9\n",
      "\n"
     ]
    }
   ],
   "source": [
    "# Hacemos uso del módulo SeqIO\n",
    "from Bio import SeqIO\n",
    "\n",
    "records = SeqIO.parse(fastaFile, \"fasta\")\n",
    "for i, seq_record in enumerate(records):\n",
    "    print(\"Secuencia %d:\" % i)\n",
    "    print(\"Número de A's: %d\" % seq_record.seq.count(\"A\"))\n",
    "    print(\"Número de C's: %d\" % seq_record.seq.count(\"C\"))\n",
    "    print(\"Número de G's: %d\" % seq_record.seq.count(\"G\"))\n",
    "    print(\"Número de T's: %d\" % seq_record.seq.count(\"T\"))\n",
    "    print()"
   ]
  },
  {
   "attachments": {},
   "cell_type": "markdown",
   "metadata": {},
   "source": [
    "### Sin utilización de librerías bioinformáticas\n",
    "\n",
    "Desarrollamos el código para contar el número de bases como en el caso anterior, pero **SIN hacer uso de la librería BioPython**. El output tiene que ser idéntico al del desarrollo anterior."
   ]
  },
  {
   "cell_type": "code",
   "execution_count": 5,
   "metadata": {},
   "outputs": [
    {
     "name": "stdout",
     "output_type": "stream",
     "text": [
      "Secuencia 0:\n",
      "Número de A's: 39\n",
      "Número de C's: 26\n",
      "Número de G's: 29\n",
      "Número de T's: 40\n",
      "\n",
      "Secuencia 1:\n",
      "Número de A's: 46\n",
      "Número de C's: 0\n",
      "Número de G's: 0\n",
      "Número de T's: 79\n",
      "\n",
      "Secuencia 2:\n",
      "Número de A's: 32\n",
      "Número de C's: 17\n",
      "Número de G's: 10\n",
      "Número de T's: 22\n",
      "\n",
      "Secuencia 3:\n",
      "Número de A's: 68\n",
      "Número de C's: 34\n",
      "Número de G's: 49\n",
      "Número de T's: 59\n",
      "\n",
      "Secuencia 4:\n",
      "Número de A's: 21\n",
      "Número de C's: 18\n",
      "Número de G's: 22\n",
      "Número de T's: 9\n",
      "\n"
     ]
    }
   ],
   "source": [
    "# Sin librerías\n",
    "\n",
    "# Importamos la librería os para el manejo de ficheros\n",
    "import os\n",
    "\n",
    "# Creamos un diccionario donde incluir los datos del fichero\n",
    "secuencia = {}\n",
    "\n",
    "# Creamos una variable para nombrar la secuencia\n",
    "# -1 para que la secuencia comience por 0\n",
    "clave = -1\n",
    "\n",
    "# Leemos el fichero\n",
    "with open(fastaFile) as fichero:\n",
    "    \n",
    "    # Recorremos las líneas del fichero\n",
    "    for linea in fichero:\n",
    "        # Quitamos los saltos de líneas\n",
    "            linea = linea.rstrip(os.linesep)\n",
    "            # Si la línea empieza por >\n",
    "            if linea.startswith('>'):\n",
    "                # clave = linea[1:] Si quisiéramos el nombre de la secuencia\n",
    "                # Sumo aquí por que luego puede haber varias líneas con nucleótidos\n",
    "                clave += 1\n",
    "                secuencia[clave] = ''\n",
    "            # Las líneas a manipular\n",
    "            else:\n",
    "                secuencia[clave] += linea\n",
    "                \n",
    "# Extraemos la información de nuestro diccionario\n",
    "for clave, valor in secuencia.items():\n",
    "    print(\"Secuencia %s:\" % clave)\n",
    "    print(\"Número de A's: %d\" % valor.count(\"A\"))\n",
    "    print(\"Número de C's: %d\" % valor.count(\"C\"))\n",
    "    print(\"Número de G's: %d\" % valor.count(\"G\"))\n",
    "    print(\"Número de T's: %d\" % valor.count(\"T\"))\n",
    "    print()"
   ]
  }
 ],
 "metadata": {
  "kernelspec": {
   "display_name": "Python 3",
   "language": "python",
   "name": "python3"
  },
  "language_info": {
   "codemirror_mode": {
    "name": "ipython",
    "version": 3
   },
   "file_extension": ".py",
   "mimetype": "text/x-python",
   "name": "python",
   "nbconvert_exporter": "python",
   "pygments_lexer": "ipython3",
   "version": "3.11.3"
  },
  "toc": {
   "base_numbering": 1,
   "nav_menu": {},
   "number_sections": true,
   "sideBar": true,
   "skip_h1_title": false,
   "title_cell": "Table of Contents",
   "title_sidebar": "Contents",
   "toc_cell": false,
   "toc_position": {},
   "toc_section_display": true,
   "toc_window_display": false
  },
  "varInspector": {
   "cols": {
    "lenName": 16,
    "lenType": 16,
    "lenVar": 40
   },
   "kernels_config": {
    "python": {
     "delete_cmd_postfix": "",
     "delete_cmd_prefix": "del ",
     "library": "var_list.py",
     "varRefreshCmd": "print(var_dic_list())"
    },
    "r": {
     "delete_cmd_postfix": ") ",
     "delete_cmd_prefix": "rm(",
     "library": "var_list.r",
     "varRefreshCmd": "cat(var_dic_list()) "
    }
   },
   "types_to_exclude": [
    "module",
    "function",
    "builtin_function_or_method",
    "instance",
    "_Feature"
   ],
   "window_display": false
  }
 },
 "nbformat": 4,
 "nbformat_minor": 1
}
